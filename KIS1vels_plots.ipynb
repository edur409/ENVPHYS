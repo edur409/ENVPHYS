{
 "cells": [
  {
   "cell_type": "markdown",
   "id": "3ad34c8a-654a-4812-ac20-501c7f6ceb24",
   "metadata": {},
   "source": [
    "# ENVPHYS200: THE UNDER-ICE CHANNEL (Part II)\n",
    "\n",
    "In this assignment you will analyse some of the data collected in the [Kamb Ice Stream (KIS)](https://raw.githubusercontent.com/edur409/ENVPHYS/main/KIS1vels.dat) and answer the questions available in the Module document available on Canvas.\n",
    "\n",
    "Some articles for reference:\n",
    "\n",
    "> Horgan, H. J., Alley, R. B., Christianson, K., Jacobel, R. W., Anandakrishnan, S., Muto, A., ... & Siegfried, M. R. (2013). Estuaries beneath ice sheets. Geology, 41(11), 1159-1162.\n",
    "\n",
    "> Lawrence, J.D., Washam, P.M., Stevens, C. et al. Crevasse refreezing and signatures of retreat observed at Kamb Ice Stream grounding zone. Nat. Geosci. 16, 238–243 (2023). https://doi.org/10.1038/s41561-023-01129-y\n",
    "\n",
    "> Smyth, W. D., & Moum, J. N. (2012). Ocean mixing by Kelvin-Helmholtz instability. Oceanography, 25(2), 140-149. "
   ]
  },
  {
   "cell_type": "markdown",
   "id": "324460e2-a358-422f-9771-2527d2c415cb",
   "metadata": {},
   "source": [
    "# Load and install necessary packages and files"
   ]
  },
  {
   "cell_type": "code",
   "execution_count": 1,
   "id": "4452f7e4-1cfa-4f7f-8d8c-b3b878d3df60",
   "metadata": {},
   "outputs": [],
   "source": [
    "import pandas as pd\n",
    "import numpy as np\n",
    "import matplotlib.pyplot as plt\n",
    "!pip install gsw\n",
    "\n",
    "# Download a data file from github, if it doesn't exist\n",
    "!test ! -f KIS1vels.dat && wget 'https://raw.githubusercontent.com/edur409/ENVPHYS/main/KIS1vels.dat'"
   ]
  },
  {
   "cell_type": "markdown",
   "id": "f5aaadd5-f139-45bc-b58b-1f48ccb738e8",
   "metadata": {},
   "source": [
    "# Read the data file\n",
    "\n",
    "Open the data file `KIS1vels.dat` in an ASCII file reader (e.g notepad) and inspect the available data.  Use the code from previous labs to read the file and its columns\n",
    "\n",
    "As geoscientists, we have to deal with plenty of I/O operations and QC to read and assess the quality of the data collected in the field. At work this will usually take some of your time and expertise.    "
   ]
  },
  {
   "cell_type": "code",
   "execution_count": 2,
   "id": "449158ed-e3f1-4e37-b405-c1967d9b0631",
   "metadata": {},
   "outputs": [],
   "source": [
    "# Read the file here\n"
   ]
  },
  {
   "cell_type": "markdown",
   "id": "0501983b-e1ef-4d6d-b075-2d77ed0d7baa",
   "metadata": {},
   "source": [
    "# Plot the velocity values\n",
    "\n",
    "If the file was read succesfully, you can plot the values for the top, bottom layer, and the difference between them. For instance, plot the values within the range 50 to 60 decimal days. "
   ]
  },
  {
   "cell_type": "code",
   "execution_count": 111,
   "id": "76a8cff3-0519-4e06-a0c7-5d4df1a80150",
   "metadata": {},
   "outputs": [],
   "source": [
    "# Show your plot here\n"
   ]
  },
  {
   "cell_type": "markdown",
   "id": "086e39a0-c6e0-4a6c-b47c-e12108b82b50",
   "metadata": {},
   "source": [
    "# Calculate the densities\n",
    "\n",
    "You can estimate the density using the salinity, temperature and pressure by means of already coded routines within the package `gsw`, like this:\n",
    "\n",
    "`import gsw`\n",
    "\n",
    "`rho = gsw.density.rho(salinity, temperature, pressure) # kg/m^3`"
   ]
  },
  {
   "cell_type": "code",
   "execution_count": 110,
   "id": "ed52d74e-10c6-45e8-9c1c-6cafeea14304",
   "metadata": {},
   "outputs": [],
   "source": [
    "# Show your calculations here\n"
   ]
  },
  {
   "cell_type": "markdown",
   "id": "528da423-5dda-4dc9-8256-d28c0623a562",
   "metadata": {},
   "source": [
    "# Richardson number (Ri)\n",
    "\n",
    "Estimate the Richardson number and plot the histogram\n",
    "\n",
    "$$Ri = \\frac{g' \\delta}{(\\Delta u)^2}$$"
   ]
  },
  {
   "cell_type": "code",
   "execution_count": 108,
   "id": "20083b05-5db1-47c7-b29c-4640c8a3b6e4",
   "metadata": {},
   "outputs": [],
   "source": [
    "# Calculate the histogram and values ercentage of values below 0.25 here\n"
   ]
  },
  {
   "cell_type": "code",
   "execution_count": null,
   "id": "57a8225f-4b9a-45ed-8c62-86c516fb85d7",
   "metadata": {},
   "outputs": [],
   "source": []
  },
  {
   "cell_type": "code",
   "execution_count": null,
   "id": "4a529bf1-83a7-446b-98d3-3ffeadb7b050",
   "metadata": {},
   "outputs": [],
   "source": []
  }
 ],
 "metadata": {
  "kernelspec": {
   "display_name": "Python 3 (ipykernel)",
   "language": "python",
   "name": "python3"
  },
  "language_info": {
   "codemirror_mode": {
    "name": "ipython",
    "version": 3
   },
   "file_extension": ".py",
   "mimetype": "text/x-python",
   "name": "python",
   "nbconvert_exporter": "python",
   "pygments_lexer": "ipython3",
   "version": "3.11.9"
  }
 },
 "nbformat": 4,
 "nbformat_minor": 5
}
