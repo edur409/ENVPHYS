{
 "cells": [
  {
   "cell_type": "markdown",
   "metadata": {},
   "source": [
    "# ENVPHYS200 Oceans Module\n",
    "\n",
    "You can use this notebook to generate your plots.  Here we provide a nice example of the use of `pandas` and `geopandas` for you.  Very useful as geoscientists. "
   ]
  },
  {
   "cell_type": "code",
   "execution_count": 1,
   "metadata": {},
   "outputs": [],
   "source": [
    "!pip install ipyleaflet\n",
    "!pip install simplekml\n",
    "import numpy as np\n",
    "import matplotlib.pyplot as plt\n",
    "from ipyleaflet import Map, basemaps, basemap_to_tiles, SplitMapControl, TileLayer, GeoData, FullScreenControl, MeasureControl\n",
    "import pandas as pd\n",
    "import geopandas as gpd\n",
    "import simplekml\n",
    "\n",
    "# Download a data file from github, if it doesn't exist\n",
    "#!test ! -f SVP-example.dat && wget 'https://raw.githubusercontent.com/edur409/ENVPHYS/refs/heads/main/SVP-example.dat'\n",
    "\n",
    "colnames=['Sample_number', 'Latitude', 'Longitude', 'E_V', 'N_V']\n",
    "SVP = pd.read_csv('SVP-example.dat', delimiter=',', skiprows = 12 , skipfooter= 0, names = colnames, engine ='python', header = None)"
   ]
  },
  {
   "cell_type": "markdown",
   "metadata": {},
   "source": [
    "# There's Pandas and Geopandas \n",
    "\n",
    "Dataframes and GeoDataframes are a nice way to organize data. "
   ]
  },
  {
   "cell_type": "code",
   "execution_count": 2,
   "metadata": {},
   "outputs": [],
   "source": [
    "# create a pandas Dataframe\n",
    "df = pd.DataFrame(\n",
    "    {'Sample_number': SVP.Sample_number,\n",
    "     'E_V': SVP.E_V,\n",
    "     'N_V': SVP.N_V,\n",
    "     'Longitude': SVP.Longitude,\n",
    "     'Latitude': SVP.Latitude})\n",
    "\n",
    "# Transform it into GeoDataFrame with Geopandas\n",
    "gdf = gpd.GeoDataFrame(\n",
    "    df, geometry=gpd.points_from_xy(df.Longitude, df.Latitude))\n",
    "gdf = gdf.set_crs('epsg:3857') \n",
    "\n",
    "# Make it into a GeoData object for plotting fast in ipyleaflet \n",
    "geo_data = GeoData(geo_dataframe = gdf,\n",
    "    style={'color': 'black', 'radius':2, 'fillColor': '#3366cc', 'opacity':0.5, 'weight':1.9, 'dashArray':'2', 'fillOpacity':0.6},\n",
    "    hover_style={'fillColor': 'red' , 'fillOpacity': 0.2},\n",
    "    point_style={'radius': 2, 'color': 'red', 'fillOpacity': 0.8, 'fillColor': 'blue', 'weight': 3},\n",
    "    name = 'Release')"
   ]
  },
  {
   "cell_type": "markdown",
   "metadata": {},
   "source": [
    "# Ipyleaflet for plotting\n",
    "\n",
    "A nice example of `ipyleaflet` capabilities.  The Geologic Map layer is available via the [Macrostrat.org](https://macrostrat.org/) API.  You can have a geologic map on your phone by installing their `Rockd` app. "
   ]
  },
  {
   "cell_type": "code",
   "execution_count": 3,
   "metadata": {},
   "outputs": [
    {
     "data": {
      "application/vnd.jupyter.widget-view+json": {
       "model_id": "f12cfe927c174f07adc7db2d048e9424",
       "version_major": 2,
       "version_minor": 0
      },
      "text/plain": [
       "Map(center=[-38, -170], controls=(ZoomControl(options=['position', 'zoom_in_text', 'zoom_in_title', 'zoom_out_…"
      ]
     },
     "metadata": {},
     "output_type": "display_data"
    }
   ],
   "source": [
    "# Ipyleaflet example\n",
    "center = (-38, -170)\n",
    "zoom = 4\n",
    "\n",
    "map = Map(center=center, zoom=zoom, interpolation='nearest', keyboard=0, keyboard_pan_offset=0)#, basemap= basemaps.OpenStreetMap)# basemaps.CartoDB.DarkMatter)\n",
    "\n",
    "map.add(geo_data)\n",
    "left_layer = TileLayer(url='https://tiles.macrostrat.org/carto/{z}/{x}/{y}.png')#basemap_to_tiles(basemaps.Esri.WorldStreetMap)\n",
    "right_layer = basemap_to_tiles(basemaps.NASAGIBS.ModisTerraTrueColorCR, \"2000-10-02\") # #basemaps.NASAGIBS.ModisTerraTrueColorCR\n",
    "\n",
    "control = SplitMapControl(left_layer=left_layer, right_layer=right_layer)\n",
    "\n",
    "measure = MeasureControl(\n",
    "    position='topleft',\n",
    "    active_color = 'orange',\n",
    "    primary_length_unit = 'kilometers',\n",
    "    auto_pan=False,\n",
    ")\n",
    "map.add(measure)\n",
    "\n",
    "measure.completed_color = 'red'\n",
    "\n",
    "# measure.add_length_unit('yards', 1.09361, 4)\n",
    "# measure.secondary_length_unit = 'yards'\n",
    "\n",
    "# measure.add_area_unit('sqyards', 1.19599, 4)\n",
    "# measure.secondary_area_unit = 'sqyards'\n",
    "\n",
    "map.add_control(control)\n",
    "map.add(FullScreenControl())\n",
    "\n",
    "display(map)"
   ]
  },
  {
   "cell_type": "code",
   "execution_count": 4,
   "metadata": {},
   "outputs": [],
   "source": [
    "# plt.scatter(SVP.Longitude, SVP.Latitude)\n",
    "# plt.axis('equal')"
   ]
  },
  {
   "cell_type": "markdown",
   "metadata": {},
   "source": [
    "# Save coordinates as KML file (readable by Google Earth)\n",
    "\n",
    "You can save the coordinates as a KML file that you can drag-and-drop into [Google Earth](https://earth.google.com/web/)."
   ]
  },
  {
   "cell_type": "code",
   "execution_count": 5,
   "metadata": {},
   "outputs": [],
   "source": [
    "# Function to create a circle\n",
    "def create_circle(center, radius, num_points=36):\n",
    "    angles = np.linspace(0, 2 * np.pi, num_points)\n",
    "    circle_coords = [(center.x + radius * np.cos(angle), center.y + radius * np.sin(angle)) for angle in angles]\n",
    "    return circle_coords\n",
    "\n",
    "# Create a KML object\n",
    "kml = simplekml.Kml()\n",
    "\n",
    "# Define a radius in degrees (approximate, as 1 degree ~ 111 km)\n",
    "radius = 0.01  # Adjust this as needed\n",
    "\n",
    "# Iterate through the GeoDataFrame and add circles\n",
    "for idx, row in gdf.iterrows():\n",
    "    # Create a circle around each point\n",
    "    circle_coords = create_circle(row.geometry, radius)\n",
    "    kml.newpolygon(outerboundaryis=circle_coords)\n",
    "\n",
    "# Save the KML file\n",
    "kml.save(\"SVP_coordinates.kml\")"
   ]
  },
  {
   "cell_type": "code",
   "execution_count": null,
   "metadata": {},
   "outputs": [],
   "source": []
  }
 ],
 "metadata": {
  "colab": {
   "provenance": []
  },
  "kernelspec": {
   "display_name": "Python 3 (ipykernel)",
   "language": "python",
   "name": "python3"
  },
  "language_info": {
   "codemirror_mode": {
    "name": "ipython",
    "version": 3
   },
   "file_extension": ".py",
   "mimetype": "text/x-python",
   "name": "python",
   "nbconvert_exporter": "python",
   "pygments_lexer": "ipython3",
   "version": "3.11.9"
  },
  "widgets": {
   "application/vnd.jupyter.widget-state+json": {
    "02662dbbcb71447a9f7f3451d7597804": {
     "model_module": "jupyter-leaflet",
     "model_module_version": "^0.19",
     "model_name": "LeafletMapStyleModel",
     "state": {
      "_model_module": "jupyter-leaflet",
      "_model_module_version": "^0.19",
      "_model_name": "LeafletMapStyleModel",
      "_view_count": null,
      "_view_module": "@jupyter-widgets/base",
      "_view_module_version": "1.2.0",
      "_view_name": "StyleView",
      "cursor": "grab"
     }
    },
    "3f72f128e6d44a1c97e7d997dd284c38": {
     "model_module": "jupyter-leaflet",
     "model_module_version": "^0.19",
     "model_name": "LeafletMapModel",
     "state": {
      "_dom_classes": [],
      "_model_module": "jupyter-leaflet",
      "_model_module_version": "^0.19",
      "_model_name": "LeafletMapModel",
      "_view_count": null,
      "_view_module": "jupyter-leaflet",
      "_view_module_version": "^0.19",
      "_view_name": "LeafletMapView",
      "bottom": 6745,
      "bounce_at_zoom_limits": true,
      "box_zoom": true,
      "center": [
       33.99802726234877,
       -118.23486328125001
      ],
      "close_popup_on_click": true,
      "controls": [
       "IPY_MODEL_d80c9f6022d449c3bac9002b066c6893",
       "IPY_MODEL_582b3fb4ded3486ba5993163ff0b2995"
      ],
      "crs": {
       "custom": false,
       "name": "EPSG3857"
      },
      "default_style": "IPY_MODEL_ddb888525a78423bb51a1c248d933b0d",
      "double_click_zoom": true,
      "dragging": true,
      "dragging_style": "IPY_MODEL_4efcb661711041aba2787a8ca633275d",
      "east": -106.43554687500001,
      "fullscreen": false,
      "inertia": true,
      "inertia_deceleration": 3000,
      "inertia_max_speed": 1500,
      "interpolation": "bilinear",
      "keyboard": true,
      "keyboard_pan_offset": 80,
      "keyboard_zoom_offset": 1,
      "layers": [
       "IPY_MODEL_c24642dd2328406f95eda0d403aa2f50",
       "IPY_MODEL_9ef69645da174d339cc8aeb41a50e790",
       "IPY_MODEL_f9873fc03bfa4b06a28597626fa63d4b",
       "IPY_MODEL_d12109e71915433a89ef9e7865713e06"
      ],
      "layout": "IPY_MODEL_8d705106171d44b6a7d922400aac3b9d",
      "left": 2274,
      "max_zoom": null,
      "min_zoom": null,
      "modisdate": "2024-09-24",
      "north": 37.56199695314352,
      "options": [
       "bounce_at_zoom_limits",
       "box_zoom",
       "center",
       "close_popup_on_click",
       "double_click_zoom",
       "dragging",
       "fullscreen",
       "inertia",
       "inertia_deceleration",
       "inertia_max_speed",
       "interpolation",
       "keyboard",
       "keyboard_pan_offset",
       "keyboard_zoom_offset",
       "max_zoom",
       "min_zoom",
       "prefer_canvas",
       "scroll_wheel_zoom",
       "tap",
       "tap_tolerance",
       "touch_zoom",
       "world_copy_jump",
       "zoom",
       "zoom_animation_threshold",
       "zoom_delta",
       "zoom_snap"
      ],
      "panes": {},
      "prefer_canvas": false,
      "right": 3348,
      "scroll_wheel_zoom": false,
      "south": 30.278044377800153,
      "style": "IPY_MODEL_ddb888525a78423bb51a1c248d933b0d",
      "tap": true,
      "tap_tolerance": 15,
      "top": 6345,
      "touch_zoom": true,
      "west": -130.03417968750003,
      "window_url": "https://5ntkjx8kenm-496ff2e9c6d22116-0-colab.googleusercontent.com/outputframe.html?vrz=colab_20240924-060116_RC00_678132060",
      "world_copy_jump": false,
      "zoom": 6,
      "zoom_animation_threshold": 4,
      "zoom_delta": 1,
      "zoom_snap": 1
     }
    },
    "4efcb661711041aba2787a8ca633275d": {
     "model_module": "jupyter-leaflet",
     "model_module_version": "^0.19",
     "model_name": "LeafletMapStyleModel",
     "state": {
      "_model_module": "jupyter-leaflet",
      "_model_module_version": "^0.19",
      "_model_name": "LeafletMapStyleModel",
      "_view_count": null,
      "_view_module": "@jupyter-widgets/base",
      "_view_module_version": "1.2.0",
      "_view_name": "StyleView",
      "cursor": "move"
     }
    },
    "582b3fb4ded3486ba5993163ff0b2995": {
     "model_module": "jupyter-leaflet",
     "model_module_version": "^0.19",
     "model_name": "LeafletAttributionControlModel",
     "state": {
      "_model_module": "jupyter-leaflet",
      "_model_module_version": "^0.19",
      "_model_name": "LeafletAttributionControlModel",
      "_view_count": null,
      "_view_module": "jupyter-leaflet",
      "_view_module_version": "^0.19",
      "_view_name": "LeafletAttributionControlView",
      "options": [
       "position",
       "prefix"
      ],
      "position": "bottomright",
      "prefix": "ipyleaflet"
     }
    },
    "8d705106171d44b6a7d922400aac3b9d": {
     "model_module": "@jupyter-widgets/base",
     "model_module_version": "1.2.0",
     "model_name": "LayoutModel",
     "state": {
      "_model_module": "@jupyter-widgets/base",
      "_model_module_version": "1.2.0",
      "_model_name": "LayoutModel",
      "_view_count": null,
      "_view_module": "@jupyter-widgets/base",
      "_view_module_version": "1.2.0",
      "_view_name": "LayoutView",
      "align_content": null,
      "align_items": null,
      "align_self": null,
      "border": null,
      "bottom": null,
      "display": null,
      "flex": null,
      "flex_flow": null,
      "grid_area": null,
      "grid_auto_columns": null,
      "grid_auto_flow": null,
      "grid_auto_rows": null,
      "grid_column": null,
      "grid_gap": null,
      "grid_row": null,
      "grid_template_areas": null,
      "grid_template_columns": null,
      "grid_template_rows": null,
      "height": null,
      "justify_content": null,
      "justify_items": null,
      "left": null,
      "margin": null,
      "max_height": null,
      "max_width": null,
      "min_height": null,
      "min_width": null,
      "object_fit": null,
      "object_position": null,
      "order": null,
      "overflow": null,
      "overflow_x": null,
      "overflow_y": null,
      "padding": null,
      "right": null,
      "top": null,
      "visibility": null,
      "width": null
     }
    },
    "9ef69645da174d339cc8aeb41a50e790": {
     "model_module": "jupyter-leaflet",
     "model_module_version": "^0.19",
     "model_name": "LeafletMarkerModel",
     "state": {
      "_model_module": "jupyter-leaflet",
      "_model_module_version": "^0.19",
      "_model_name": "LeafletMarkerModel",
      "_view_count": null,
      "_view_module": "jupyter-leaflet",
      "_view_module_version": "^0.19",
      "_view_name": "LeafletMarkerView",
      "alt": "",
      "base": false,
      "bottom": false,
      "draggable": true,
      "icon": null,
      "keyboard": true,
      "location": [
       34.0522,
       -118.2437
      ],
      "name": "",
      "opacity": 1,
      "options": [
       "alt",
       "draggable",
       "keyboard",
       "rise_offset",
       "rise_on_hover",
       "rotation_angle",
       "rotation_origin",
       "title",
       "z_index_offset"
      ],
      "pane": "",
      "popup": null,
      "popup_max_height": null,
      "popup_max_width": 300,
      "popup_min_width": 50,
      "rise_offset": 250,
      "rise_on_hover": false,
      "rotation_angle": 0,
      "rotation_origin": "",
      "subitems": [],
      "title": "",
      "visible": true,
      "z_index_offset": 0
     }
    },
    "c24642dd2328406f95eda0d403aa2f50": {
     "model_module": "jupyter-leaflet",
     "model_module_version": "^0.19",
     "model_name": "LeafletTileLayerModel",
     "state": {
      "_model_module": "jupyter-leaflet",
      "_model_module_version": "^0.19",
      "_model_name": "LeafletTileLayerModel",
      "_view_count": null,
      "_view_module": "jupyter-leaflet",
      "_view_module_version": "^0.19",
      "_view_name": "LeafletTileLayerView",
      "attribution": "&copy; <a href=\"https://www.openstreetmap.org/copyright\">OpenStreetMap</a> contributors",
      "base": true,
      "bottom": true,
      "bounds": null,
      "detect_retina": false,
      "loading": false,
      "max_native_zoom": null,
      "max_zoom": 19,
      "min_native_zoom": null,
      "min_zoom": 1,
      "name": "OpenStreetMap.Mapnik",
      "no_wrap": false,
      "opacity": 1,
      "options": [
       "attribution",
       "bounds",
       "detect_retina",
       "max_native_zoom",
       "max_zoom",
       "min_native_zoom",
       "min_zoom",
       "no_wrap",
       "tile_size",
       "tms",
       "zoom_offset"
      ],
      "pane": "",
      "popup": null,
      "popup_max_height": null,
      "popup_max_width": 300,
      "popup_min_width": 50,
      "show_loading": false,
      "subitems": [],
      "tile_size": 256,
      "tms": false,
      "url": "https://tile.openstreetmap.org/{z}/{x}/{y}.png",
      "visible": true,
      "zoom_offset": 0
     }
    },
    "d12109e71915433a89ef9e7865713e06": {
     "model_module": "jupyter-leaflet",
     "model_module_version": "^0.19",
     "model_name": "LeafletMarkerModel",
     "state": {
      "_model_module": "jupyter-leaflet",
      "_model_module_version": "^0.19",
      "_model_name": "LeafletMarkerModel",
      "_view_count": null,
      "_view_module": "jupyter-leaflet",
      "_view_module_version": "^0.19",
      "_view_name": "LeafletMarkerView",
      "alt": "",
      "base": false,
      "bottom": false,
      "draggable": true,
      "icon": null,
      "keyboard": true,
      "location": [
       32.7157,
       -117.1611
      ],
      "name": "",
      "opacity": 1,
      "options": [
       "alt",
       "draggable",
       "keyboard",
       "rise_offset",
       "rise_on_hover",
       "rotation_angle",
       "rotation_origin",
       "title",
       "z_index_offset"
      ],
      "pane": "",
      "popup": null,
      "popup_max_height": null,
      "popup_max_width": 300,
      "popup_min_width": 50,
      "rise_offset": 250,
      "rise_on_hover": false,
      "rotation_angle": 0,
      "rotation_origin": "",
      "subitems": [],
      "title": "",
      "visible": true,
      "z_index_offset": 0
     }
    },
    "d80c9f6022d449c3bac9002b066c6893": {
     "model_module": "jupyter-leaflet",
     "model_module_version": "^0.19",
     "model_name": "LeafletZoomControlModel",
     "state": {
      "_model_module": "jupyter-leaflet",
      "_model_module_version": "^0.19",
      "_model_name": "LeafletZoomControlModel",
      "_view_count": null,
      "_view_module": "jupyter-leaflet",
      "_view_module_version": "^0.19",
      "_view_name": "LeafletZoomControlView",
      "options": [
       "position",
       "zoom_in_text",
       "zoom_in_title",
       "zoom_out_text",
       "zoom_out_title"
      ],
      "position": "topleft",
      "zoom_in_text": "+",
      "zoom_in_title": "Zoom in",
      "zoom_out_text": "-",
      "zoom_out_title": "Zoom out"
     }
    },
    "ddb888525a78423bb51a1c248d933b0d": {
     "model_module": "jupyter-leaflet",
     "model_module_version": "^0.19",
     "model_name": "LeafletMapStyleModel",
     "state": {
      "_model_module": "jupyter-leaflet",
      "_model_module_version": "^0.19",
      "_model_name": "LeafletMapStyleModel",
      "_view_count": null,
      "_view_module": "@jupyter-widgets/base",
      "_view_module_version": "1.2.0",
      "_view_name": "StyleView",
      "cursor": "grab"
     }
    },
    "f9873fc03bfa4b06a28597626fa63d4b": {
     "model_module": "jupyter-leaflet",
     "model_module_version": "^0.19",
     "model_name": "LeafletMarkerModel",
     "state": {
      "_model_module": "jupyter-leaflet",
      "_model_module_version": "^0.19",
      "_model_name": "LeafletMarkerModel",
      "_view_count": null,
      "_view_module": "jupyter-leaflet",
      "_view_module_version": "^0.19",
      "_view_name": "LeafletMarkerView",
      "alt": "",
      "base": false,
      "bottom": false,
      "draggable": true,
      "icon": null,
      "keyboard": true,
      "location": [
       37.7749,
       -122.4194
      ],
      "name": "",
      "opacity": 1,
      "options": [
       "alt",
       "draggable",
       "keyboard",
       "rise_offset",
       "rise_on_hover",
       "rotation_angle",
       "rotation_origin",
       "title",
       "z_index_offset"
      ],
      "pane": "",
      "popup": null,
      "popup_max_height": null,
      "popup_max_width": 300,
      "popup_min_width": 50,
      "rise_offset": 250,
      "rise_on_hover": false,
      "rotation_angle": 0,
      "rotation_origin": "",
      "subitems": [],
      "title": "",
      "visible": true,
      "z_index_offset": 0
     }
    }
   }
  }
 },
 "nbformat": 4,
 "nbformat_minor": 4
}
